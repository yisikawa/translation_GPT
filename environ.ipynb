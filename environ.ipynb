{
 "cells": [
  {
   "cell_type": "code",
   "execution_count": 2,
   "id": "66f54bbf-e3a5-4498-80f0-d875f40a650d",
   "metadata": {},
   "outputs": [
    {
     "name": "stdout",
     "output_type": "stream",
     "text": [
      "Defaulting to user installation because normal site-packages is not writeable\n",
      "Requirement already satisfied: audio_recorder_streamlit in c:\\users\\yisik\\appdata\\roaming\\python\\python310\\site-packages (0.0.9)\n",
      "Requirement already satisfied: streamlit<1.30,>=0.63 in c:\\users\\yisik\\appdata\\roaming\\python\\python310\\site-packages (from audio_recorder_streamlit) (1.20.0)\n",
      "Requirement already satisfied: altair<5 in c:\\users\\yisik\\appdata\\roaming\\python\\python310\\site-packages (from audio_recorder_streamlit) (4.2.2)\n",
      "Requirement already satisfied: entrypoints in c:\\users\\yisik\\appdata\\roaming\\python\\python310\\site-packages (from altair<5->audio_recorder_streamlit) (0.4)\n",
      "Requirement already satisfied: jinja2 in c:\\users\\yisik\\appdata\\roaming\\python\\python310\\site-packages (from altair<5->audio_recorder_streamlit) (3.1.2)\n",
      "Requirement already satisfied: jsonschema>=3.0 in c:\\users\\yisik\\appdata\\roaming\\python\\python310\\site-packages (from altair<5->audio_recorder_streamlit) (4.20.0)\n",
      "Requirement already satisfied: numpy in c:\\users\\yisik\\appdata\\roaming\\python\\python310\\site-packages (from altair<5->audio_recorder_streamlit) (1.24.3)\n",
      "Requirement already satisfied: pandas>=0.18 in c:\\users\\yisik\\appdata\\roaming\\python\\python310\\site-packages (from altair<5->audio_recorder_streamlit) (1.5.3)\n",
      "Requirement already satisfied: toolz in c:\\users\\yisik\\appdata\\roaming\\python\\python310\\site-packages (from altair<5->audio_recorder_streamlit) (0.12.1)\n",
      "Requirement already satisfied: blinker>=1.0.0 in c:\\users\\yisik\\appdata\\roaming\\python\\python310\\site-packages (from streamlit<1.30,>=0.63->audio_recorder_streamlit) (1.8.2)\n",
      "Requirement already satisfied: cachetools>=4.0 in c:\\users\\yisik\\appdata\\roaming\\python\\python310\\site-packages (from streamlit<1.30,>=0.63->audio_recorder_streamlit) (5.3.3)\n",
      "Requirement already satisfied: click>=7.0 in c:\\users\\yisik\\appdata\\roaming\\python\\python310\\site-packages (from streamlit<1.30,>=0.63->audio_recorder_streamlit) (8.1.7)\n",
      "Requirement already satisfied: importlib-metadata>=1.4 in c:\\users\\yisik\\appdata\\roaming\\python\\python310\\site-packages (from streamlit<1.30,>=0.63->audio_recorder_streamlit) (7.1.0)\n",
      "Requirement already satisfied: packaging>=14.1 in c:\\users\\yisik\\appdata\\roaming\\python\\python310\\site-packages (from streamlit<1.30,>=0.63->audio_recorder_streamlit) (23.2)\n",
      "Requirement already satisfied: pillow>=6.2.0 in c:\\users\\yisik\\appdata\\roaming\\python\\python310\\site-packages (from streamlit<1.30,>=0.63->audio_recorder_streamlit) (10.1.0)\n",
      "Requirement already satisfied: protobuf<4,>=3.12 in c:\\users\\yisik\\appdata\\roaming\\python\\python310\\site-packages (from streamlit<1.30,>=0.63->audio_recorder_streamlit) (3.20.3)\n",
      "Requirement already satisfied: pyarrow>=4.0 in c:\\users\\yisik\\appdata\\roaming\\python\\python310\\site-packages (from streamlit<1.30,>=0.63->audio_recorder_streamlit) (16.1.0)\n",
      "Requirement already satisfied: pympler>=0.9 in c:\\users\\yisik\\appdata\\roaming\\python\\python310\\site-packages (from streamlit<1.30,>=0.63->audio_recorder_streamlit) (1.1)\n",
      "Requirement already satisfied: python-dateutil in c:\\users\\yisik\\appdata\\roaming\\python\\python310\\site-packages (from streamlit<1.30,>=0.63->audio_recorder_streamlit) (2.8.2)\n",
      "Requirement already satisfied: requests>=2.4 in c:\\users\\yisik\\appdata\\roaming\\python\\python310\\site-packages (from streamlit<1.30,>=0.63->audio_recorder_streamlit) (2.32.3)\n",
      "Requirement already satisfied: rich>=10.11.0 in c:\\users\\yisik\\appdata\\roaming\\python\\python310\\site-packages (from streamlit<1.30,>=0.63->audio_recorder_streamlit) (13.7.1)\n",
      "Requirement already satisfied: semver in c:\\users\\yisik\\appdata\\roaming\\python\\python310\\site-packages (from streamlit<1.30,>=0.63->audio_recorder_streamlit) (3.0.2)\n",
      "Requirement already satisfied: toml in c:\\users\\yisik\\appdata\\roaming\\python\\python310\\site-packages (from streamlit<1.30,>=0.63->audio_recorder_streamlit) (0.10.2)\n",
      "Requirement already satisfied: typing-extensions>=3.10.0.0 in c:\\users\\yisik\\appdata\\roaming\\python\\python310\\site-packages (from streamlit<1.30,>=0.63->audio_recorder_streamlit) (4.12.2)\n",
      "Requirement already satisfied: tzlocal>=1.1 in c:\\users\\yisik\\appdata\\roaming\\python\\python310\\site-packages (from streamlit<1.30,>=0.63->audio_recorder_streamlit) (5.2)\n",
      "Requirement already satisfied: validators>=0.2 in c:\\users\\yisik\\appdata\\roaming\\python\\python310\\site-packages (from streamlit<1.30,>=0.63->audio_recorder_streamlit) (0.31.0)\n",
      "Requirement already satisfied: gitpython!=3.1.19 in c:\\users\\yisik\\appdata\\roaming\\python\\python310\\site-packages (from streamlit<1.30,>=0.63->audio_recorder_streamlit) (3.1.43)\n",
      "Requirement already satisfied: pydeck>=0.1.dev5 in c:\\users\\yisik\\appdata\\roaming\\python\\python310\\site-packages (from streamlit<1.30,>=0.63->audio_recorder_streamlit) (0.9.1)\n",
      "Requirement already satisfied: tornado>=6.0.3 in c:\\users\\yisik\\appdata\\roaming\\python\\python310\\site-packages (from streamlit<1.30,>=0.63->audio_recorder_streamlit) (6.4)\n",
      "Requirement already satisfied: watchdog in c:\\users\\yisik\\appdata\\roaming\\python\\python310\\site-packages (from streamlit<1.30,>=0.63->audio_recorder_streamlit) (4.0.1)\n",
      "Requirement already satisfied: colorama in c:\\users\\yisik\\appdata\\roaming\\python\\python310\\site-packages (from click>=7.0->streamlit<1.30,>=0.63->audio_recorder_streamlit) (0.4.6)\n",
      "Requirement already satisfied: gitdb<5,>=4.0.1 in c:\\users\\yisik\\appdata\\roaming\\python\\python310\\site-packages (from gitpython!=3.1.19->streamlit<1.30,>=0.63->audio_recorder_streamlit) (4.0.11)\n",
      "Requirement already satisfied: zipp>=0.5 in c:\\users\\yisik\\appdata\\roaming\\python\\python310\\site-packages (from importlib-metadata>=1.4->streamlit<1.30,>=0.63->audio_recorder_streamlit) (3.19.2)\n",
      "Requirement already satisfied: attrs>=22.2.0 in c:\\users\\yisik\\appdata\\roaming\\python\\python310\\site-packages (from jsonschema>=3.0->altair<5->audio_recorder_streamlit) (23.1.0)\n",
      "Requirement already satisfied: jsonschema-specifications>=2023.03.6 in c:\\users\\yisik\\appdata\\roaming\\python\\python310\\site-packages (from jsonschema>=3.0->altair<5->audio_recorder_streamlit) (2023.11.2)\n",
      "Requirement already satisfied: referencing>=0.28.4 in c:\\users\\yisik\\appdata\\roaming\\python\\python310\\site-packages (from jsonschema>=3.0->altair<5->audio_recorder_streamlit) (0.32.0)\n",
      "Requirement already satisfied: rpds-py>=0.7.1 in c:\\users\\yisik\\appdata\\roaming\\python\\python310\\site-packages (from jsonschema>=3.0->altair<5->audio_recorder_streamlit) (0.13.2)\n",
      "Requirement already satisfied: pytz>=2020.1 in c:\\users\\yisik\\appdata\\roaming\\python\\python310\\site-packages (from pandas>=0.18->altair<5->audio_recorder_streamlit) (2024.1)\n",
      "Requirement already satisfied: MarkupSafe>=2.0 in c:\\users\\yisik\\appdata\\roaming\\python\\python310\\site-packages (from jinja2->altair<5->audio_recorder_streamlit) (2.1.3)\n",
      "Requirement already satisfied: pywin32>=226 in c:\\users\\yisik\\appdata\\roaming\\python\\python310\\site-packages (from pympler>=0.9->streamlit<1.30,>=0.63->audio_recorder_streamlit) (306)\n",
      "Requirement already satisfied: six>=1.5 in c:\\users\\yisik\\appdata\\roaming\\python\\python310\\site-packages (from python-dateutil->streamlit<1.30,>=0.63->audio_recorder_streamlit) (1.16.0)\n",
      "Requirement already satisfied: charset-normalizer<4,>=2 in c:\\users\\yisik\\appdata\\roaming\\python\\python310\\site-packages (from requests>=2.4->streamlit<1.30,>=0.63->audio_recorder_streamlit) (3.3.2)\n",
      "Requirement already satisfied: idna<4,>=2.5 in c:\\users\\yisik\\appdata\\roaming\\python\\python310\\site-packages (from requests>=2.4->streamlit<1.30,>=0.63->audio_recorder_streamlit) (3.6)\n",
      "Requirement already satisfied: urllib3<3,>=1.21.1 in c:\\users\\yisik\\appdata\\roaming\\python\\python310\\site-packages (from requests>=2.4->streamlit<1.30,>=0.63->audio_recorder_streamlit) (2.1.0)\n",
      "Requirement already satisfied: certifi>=2017.4.17 in c:\\users\\yisik\\appdata\\roaming\\python\\python310\\site-packages (from requests>=2.4->streamlit<1.30,>=0.63->audio_recorder_streamlit) (2023.11.17)\n",
      "Requirement already satisfied: markdown-it-py>=2.2.0 in c:\\users\\yisik\\appdata\\roaming\\python\\python310\\site-packages (from rich>=10.11.0->streamlit<1.30,>=0.63->audio_recorder_streamlit) (2.2.0)\n",
      "Requirement already satisfied: pygments<3.0.0,>=2.13.0 in c:\\users\\yisik\\appdata\\roaming\\python\\python310\\site-packages (from rich>=10.11.0->streamlit<1.30,>=0.63->audio_recorder_streamlit) (2.17.2)\n",
      "Requirement already satisfied: tzdata in c:\\users\\yisik\\appdata\\roaming\\python\\python310\\site-packages (from tzlocal>=1.1->streamlit<1.30,>=0.63->audio_recorder_streamlit) (2024.1)\n",
      "Requirement already satisfied: smmap<6,>=3.0.1 in c:\\users\\yisik\\appdata\\roaming\\python\\python310\\site-packages (from gitdb<5,>=4.0.1->gitpython!=3.1.19->streamlit<1.30,>=0.63->audio_recorder_streamlit) (5.0.1)\n",
      "Requirement already satisfied: mdurl~=0.1 in c:\\users\\yisik\\appdata\\roaming\\python\\python310\\site-packages (from markdown-it-py>=2.2.0->rich>=10.11.0->streamlit<1.30,>=0.63->audio_recorder_streamlit) (0.1.2)\n",
      "Defaulting to user installation because normal site-packages is not writeable\n"
     ]
    },
    {
     "name": "stderr",
     "output_type": "stream",
     "text": [
      "ERROR: Could not find a version that satisfies the requirement tempfile (from versions: none)\n",
      "ERROR: No matching distribution found for tempfile\n"
     ]
    }
   ],
   "source": [
    "!pip install audio_recorder_streamlit\n",
    "!pip install tempfile"
   ]
  },
  {
   "cell_type": "code",
   "execution_count": null,
   "id": "6e913a82-d461-411e-b506-49311e649826",
   "metadata": {},
   "outputs": [],
   "source": []
  }
 ],
 "metadata": {
  "kernelspec": {
   "display_name": "Python 3 (ipykernel)",
   "language": "python",
   "name": "python3"
  },
  "language_info": {
   "codemirror_mode": {
    "name": "ipython",
    "version": 3
   },
   "file_extension": ".py",
   "mimetype": "text/x-python",
   "name": "python",
   "nbconvert_exporter": "python",
   "pygments_lexer": "ipython3",
   "version": "3.10.6"
  }
 },
 "nbformat": 4,
 "nbformat_minor": 5
}
